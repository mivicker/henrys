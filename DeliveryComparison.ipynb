{
 "cells": [
  {
   "cell_type": "code",
   "execution_count": 1,
   "metadata": {},
   "outputs": [],
   "source": [
    "import os\n",
    "import pandas as pd\n",
    "import config"
   ]
  },
  {
   "cell_type": "code",
   "execution_count": 16,
   "metadata": {},
   "outputs": [],
   "source": [
    "delivs_path = os.path.join(config.base_dir, 'AllDeliveries05192021.csv')"
   ]
  },
  {
   "cell_type": "code",
   "execution_count": 17,
   "metadata": {},
   "outputs": [
    {
     "name": "stderr",
     "output_type": "stream",
     "text": [
      "C:\\ProgramData\\Anaconda3\\lib\\site-packages\\IPython\\core\\interactiveshell.py:3146: DtypeWarning: Columns (6,28) have mixed types.Specify dtype option on import or set low_memory=False.\n",
      "  has_raised = await self.run_ast_nodes(code_ast.body, cell_name,\n"
     ]
    }
   ],
   "source": [
    "delivs_df = pd.read_csv(delivs_path)"
   ]
  },
  {
   "cell_type": "code",
   "execution_count": 18,
   "metadata": {},
   "outputs": [],
   "source": [
    "delivs_df['Delivery Date'] = pd.to_datetime(delivs_df['Delivery Date'])\n",
    "delivs_df['Member ID'] = delivs_df['Member ID'].astype(str)"
   ]
  },
  {
   "cell_type": "code",
   "execution_count": 19,
   "metadata": {},
   "outputs": [],
   "source": [
    "generated_pm_path = os.path.join(config.base_dir, '05-18-2021', 'PM', 'AllDeliveriesPM.csv')\n",
    "generated_am_path = os.path.join(config.base_dir, '05-18-2021', 'AM', 'AllDeliveriesAM.csv')"
   ]
  },
  {
   "cell_type": "code",
   "execution_count": 20,
   "metadata": {},
   "outputs": [],
   "source": [
    "generated_pm_df = pd.read_csv(generated_pm_path)\n",
    "generated_pm_df['Member ID'] = generated_pm_df['Member ID'].astype(str)\n",
    "\n",
    "generated_am_df = pd.read_csv(generated_am_path)\n",
    "generated_am_df['Member ID'] = generated_am_df['Member ID'].astype(str)"
   ]
  },
  {
   "cell_type": "code",
   "execution_count": 21,
   "metadata": {},
   "outputs": [],
   "source": [
    "def filt_for_day(df, day):\n",
    "    df[\"Delivery Date\"] = df[\"Delivery Date\"].apply(lambda x: x.date())\n",
    "    filt = df[\"Delivery Date\"] == day\n",
    "    return df[filt]\n",
    "\n",
    "def filt_for_future(df):\n",
    "    future_filt = df[\"Delivery Status\"] == 'Future'\n",
    "    pick_up_filt = df[\"Delivery Status\"] == \"Future - Pick up\"\n",
    "    remaining_filt = ~(future_filt | pick_up_filt)\n",
    "    if not df[remaining_filt].empty:\n",
    "        print(\"The following entries were filtered out.\")\n",
    "        print(df[remaining_filt][[\"MainContact\", \"Member ID\", \"Delivery Status\"]])\n",
    "    return df[future_filt], df[pick_up_filt]\n",
    "\n",
    "def split_am_pm(df):\n",
    "    #Split the days deliveries into morning and afternoon.\n",
    "    am_filt = df[\"DeliveryTime\"].str.upper() == \"AM\"\n",
    "    pm_filt = df[\"DeliveryTime\"].str.upper() == \"PM\"\n",
    "\n",
    "    left_overs = df[~am_filt & ~pm_filt] \n",
    "    if not left_overs.empty:\n",
    "        print(\"The following entries have no delivery time:\")\n",
    "        print(left_overs[[\"MainContact\", \"Member ID\", \"Delivery Status\"]])\n",
    "\n",
    "    am_df = df[am_filt]\n",
    "    pm_df = df[pm_filt]\n",
    "\n",
    "    return am_df, pm_df"
   ]
  },
  {
   "cell_type": "code",
   "execution_count": 22,
   "metadata": {},
   "outputs": [],
   "source": [
    "main_day_df = filt_for_day(delivs_df, pd.Timestamp('2021-05-18'))"
   ]
  },
  {
   "cell_type": "code",
   "execution_count": 23,
   "metadata": {},
   "outputs": [],
   "source": [
    "hard_copy_am_df, hard_copy_pm_df = split_am_pm(main_day_df)"
   ]
  },
  {
   "cell_type": "code",
   "execution_count": 24,
   "metadata": {},
   "outputs": [
    {
     "data": {
      "text/plain": [
       "True"
      ]
     },
     "execution_count": 24,
     "metadata": {},
     "output_type": "execute_result"
    }
   ],
   "source": [
    "all(hard_copy_pm_df['Delivery Status'] == 'Future')"
   ]
  },
  {
   "cell_type": "code",
   "execution_count": 25,
   "metadata": {},
   "outputs": [],
   "source": [
    "filt_pm = hard_copy_pm_df['Member ID'].isin(generated_pm_df['Member ID'])\n",
    "filt_am = hard_copy_am_df['Member ID'].isin(generated_am_df['Member ID'])"
   ]
  },
  {
   "cell_type": "code",
   "execution_count": 26,
   "metadata": {},
   "outputs": [],
   "source": [
    "am_missed = hard_copy_am_df[~filt_am]\n",
    "pm_missed = hard_copy_pm_df[~filt_pm]\n",
    "\n",
    "all_missed = pd.concat([am_missed, pm_missed], axis=0)"
   ]
  },
  {
   "cell_type": "code",
   "execution_count": 27,
   "metadata": {},
   "outputs": [],
   "source": [
    "prev_filt = delivs_df['Delivery Date'] <= pd.Timestamp('2021-05-17')"
   ]
  },
  {
   "cell_type": "code",
   "execution_count": 28,
   "metadata": {},
   "outputs": [],
   "source": [
    "earliers = delivs_df[prev_filt]"
   ]
  },
  {
   "cell_type": "code",
   "execution_count": 29,
   "metadata": {},
   "outputs": [],
   "source": [
    "forgotten_filt = earliers['Delivery Status'] == 'Future'"
   ]
  },
  {
   "cell_type": "code",
   "execution_count": 30,
   "metadata": {},
   "outputs": [
    {
     "data": {
      "text/plain": [
       "{datetime.date(2021, 5, 4),\n",
       " datetime.date(2021, 5, 7),\n",
       " datetime.date(2021, 5, 13),\n",
       " datetime.date(2021, 5, 17)}"
      ]
     },
     "execution_count": 30,
     "metadata": {},
     "output_type": "execute_result"
    }
   ],
   "source": [
    "set(earliers[forgotten_filt]['Delivery Date'])"
   ]
  },
  {
   "cell_type": "code",
   "execution_count": 31,
   "metadata": {},
   "outputs": [],
   "source": [
    "all_missed.to_csv('all_missed.csv')"
   ]
  }
 ],
 "metadata": {
  "kernelspec": {
   "display_name": "Python 3",
   "language": "python",
   "name": "python3"
  },
  "language_info": {
   "codemirror_mode": {
    "name": "ipython",
    "version": 3
   },
   "file_extension": ".py",
   "mimetype": "text/x-python",
   "name": "python",
   "nbconvert_exporter": "python",
   "pygments_lexer": "ipython3",
   "version": "3.8.5"
  }
 },
 "nbformat": 4,
 "nbformat_minor": 4
}
